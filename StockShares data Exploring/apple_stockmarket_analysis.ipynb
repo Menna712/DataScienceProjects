{
 "cells": [
  {
   "cell_type": "markdown",
   "metadata": {},
   "source": [
    "firstly, the following library needs to be installed\n",
    "\n",
    "pip install yfinance==0.1.67"
   ]
  },
  {
   "cell_type": "code",
   "execution_count": 1,
   "metadata": {},
   "outputs": [],
   "source": [
    "import yfinance as yf\n",
    "import pandas as pd"
   ]
  },
  {
   "cell_type": "code",
   "execution_count": 4,
   "metadata": {},
   "outputs": [
    {
     "data": {
      "text/plain": [
       "{'zip': '95014',\n",
       " 'sector': 'Technology',\n",
       " 'fullTimeEmployees': 154000,\n",
       " 'longBusinessSummary': 'Apple Inc. designs, manufactures, and markets smartphones, personal computers, tablets, wearables, and accessories worldwide. It also sells various related services. In addition, the company offers iPhone, a line of smartphones; Mac, a line of personal computers; iPad, a line of multi-purpose tablets; AirPods Max, an over-ear wireless headphone; and wearables, home, and accessories comprising AirPods, Apple TV, Apple Watch, Beats products, HomePod, and iPod touch. Further, it provides AppleCare support services; cloud services store services; and operates various platforms, including the App Store that allow customers to discover and download applications and digital content, such as books, music, video, games, and podcasts. Additionally, the company offers various services, such as Apple Arcade, a game subscription service; Apple Music, which offers users a curated listening experience with on-demand radio stations; Apple News+, a subscription news and magazine service; Apple TV+, which offers exclusive original content; Apple Card, a co-branded credit card; and Apple Pay, a cashless payment service, as well as licenses its intellectual property. The company serves consumers, and small and mid-sized businesses; and the education, enterprise, and government markets. It distributes third-party applications for its products through the App Store. The company also sells its products through its retail and online stores, and direct sales force; and third-party cellular network carriers, wholesalers, retailers, and resellers. Apple Inc. was incorporated in 1977 and is headquartered in Cupertino, California.',\n",
       " 'city': 'Cupertino',\n",
       " 'phone': '408 996 1010',\n",
       " 'state': 'CA',\n",
       " 'country': 'United States',\n",
       " 'companyOfficers': [],\n",
       " 'website': 'https://www.apple.com',\n",
       " 'maxAge': 1,\n",
       " 'address1': 'One Apple Park Way',\n",
       " 'industry': 'Consumer Electronics',\n",
       " 'ebitdaMargins': 0.33842,\n",
       " 'profitMargins': 0.26407,\n",
       " 'grossMargins': 0.43322,\n",
       " 'operatingCashflow': 116425998336,\n",
       " 'revenueGrowth': 0.086,\n",
       " 'operatingMargins': 0.30926,\n",
       " 'ebitda': 130633998336,\n",
       " 'targetLowPrice': 157,\n",
       " 'recommendationKey': 'buy',\n",
       " 'grossProfits': 152836000000,\n",
       " 'freeCashflow': 84384628736,\n",
       " 'targetMedianPrice': 191,\n",
       " 'currentPrice': 137.59,\n",
       " 'earningsGrowth': 0.086,\n",
       " 'currentRatio': 0.927,\n",
       " 'returnOnAssets': 0.21695,\n",
       " 'numberOfAnalystOpinions': 43,\n",
       " 'targetMeanPrice': 189.73,\n",
       " 'debtToEquity': 178.016,\n",
       " 'returnOnEquity': 1.49271,\n",
       " 'targetHighPrice': 214,\n",
       " 'totalCash': 51511001088,\n",
       " 'totalDebt': 119980998656,\n",
       " 'totalRevenue': 386017001472,\n",
       " 'totalCashPerShare': 3.183,\n",
       " 'financialCurrency': 'USD',\n",
       " 'revenuePerShare': 23.471,\n",
       " 'quickRatio': 0.76,\n",
       " 'recommendationMean': 1.9,\n",
       " 'exchange': 'NMS',\n",
       " 'shortName': 'Apple Inc.',\n",
       " 'longName': 'Apple Inc.',\n",
       " 'exchangeTimezoneName': 'America/New_York',\n",
       " 'exchangeTimezoneShortName': 'EDT',\n",
       " 'isEsgPopulated': False,\n",
       " 'gmtOffSetMilliseconds': '-14400000',\n",
       " 'quoteType': 'EQUITY',\n",
       " 'symbol': 'AAPL',\n",
       " 'messageBoardId': 'finmb_24937',\n",
       " 'market': 'us_market',\n",
       " 'annualHoldingsTurnover': None,\n",
       " 'enterpriseToRevenue': 5.946,\n",
       " 'beta3Year': None,\n",
       " 'enterpriseToEbitda': 17.571,\n",
       " '52WeekChange': 0.08253348,\n",
       " 'morningStarRiskRating': None,\n",
       " 'forwardEps': 6.56,\n",
       " 'revenueQuarterlyGrowth': None,\n",
       " 'sharesOutstanding': 16185199616,\n",
       " 'fundInceptionDate': None,\n",
       " 'annualReportExpenseRatio': None,\n",
       " 'totalAssets': None,\n",
       " 'bookValue': 4.158,\n",
       " 'sharesShort': 103977276,\n",
       " 'sharesPercentSharesOut': 0.0064,\n",
       " 'fundFamily': None,\n",
       " 'lastFiscalYearEnd': 1632528000,\n",
       " 'heldPercentInstitutions': 0.59605,\n",
       " 'netIncomeToCommon': 101934997504,\n",
       " 'trailingEps': 6.137,\n",
       " 'lastDividendValue': 0.23,\n",
       " 'SandP52WeekChange': -0.070451856,\n",
       " 'priceToBook': 33.090427,\n",
       " 'heldPercentInsiders': 0.00072999997,\n",
       " 'nextFiscalYearEnd': 1695600000,\n",
       " 'yield': None,\n",
       " 'mostRecentQuarter': 1648252800,\n",
       " 'shortRatio': 1.21,\n",
       " 'sharesShortPreviousMonthDate': 1648684800,\n",
       " 'floatShares': 16168348412,\n",
       " 'beta': 1.194642,\n",
       " 'enterpriseValue': 2295388962816,\n",
       " 'priceHint': 2,\n",
       " 'threeYearAverageReturn': None,\n",
       " 'lastSplitDate': 1598832000,\n",
       " 'lastSplitFactor': '4:1',\n",
       " 'legalType': None,\n",
       " 'lastDividendDate': 1651795200,\n",
       " 'morningStarOverallRating': None,\n",
       " 'earningsQuarterlyGrowth': 0.058,\n",
       " 'priceToSalesTrailing12Months': 5.768973,\n",
       " 'dateShortInterest': 1651190400,\n",
       " 'pegRatio': 2.25,\n",
       " 'ytdReturn': None,\n",
       " 'forwardPE': 20.974085,\n",
       " 'lastCapGain': None,\n",
       " 'shortPercentOfFloat': 0.0064,\n",
       " 'sharesShortPriorMonth': 101969098,\n",
       " 'impliedSharesOutstanding': 0,\n",
       " 'category': None,\n",
       " 'fiveYearAverageReturn': None,\n",
       " 'previousClose': 137.35,\n",
       " 'regularMarketOpen': 139.09,\n",
       " 'twoHundredDayAverage': 159.57585,\n",
       " 'trailingAnnualDividendYield': 0.006406989,\n",
       " 'payoutRatio': 0.14310001,\n",
       " 'volume24Hr': None,\n",
       " 'regularMarketDayHigh': 140.48,\n",
       " 'navPrice': None,\n",
       " 'averageDailyVolume10Day': 123403660,\n",
       " 'regularMarketPreviousClose': 137.35,\n",
       " 'fiftyDayAverage': 161.8396,\n",
       " 'trailingAnnualDividendRate': 0.88,\n",
       " 'open': 139.09,\n",
       " 'toCurrency': None,\n",
       " 'averageVolume10days': 123403660,\n",
       " 'expireDate': None,\n",
       " 'algorithm': None,\n",
       " 'dividendRate': 0.92,\n",
       " 'exDividendDate': 1651795200,\n",
       " 'circulatingSupply': None,\n",
       " 'startDate': None,\n",
       " 'regularMarketDayLow': 132.61,\n",
       " 'currency': 'USD',\n",
       " 'trailingPE': 22.419748,\n",
       " 'regularMarketVolume': 137426125,\n",
       " 'lastMarket': None,\n",
       " 'maxSupply': None,\n",
       " 'openInterest': None,\n",
       " 'marketCap': 2226921668608,\n",
       " 'volumeAllCurrencies': None,\n",
       " 'strikePrice': None,\n",
       " 'averageVolume': 98074307,\n",
       " 'dayLow': 132.61,\n",
       " 'ask': 137.6,\n",
       " 'askSize': 800,\n",
       " 'volume': 137426125,\n",
       " 'fiftyTwoWeekHigh': 182.94,\n",
       " 'fromCurrency': None,\n",
       " 'fiveYearAvgDividendYield': 1.1,\n",
       " 'fiftyTwoWeekLow': 123.13,\n",
       " 'bid': 137.56,\n",
       " 'tradeable': False,\n",
       " 'dividendYield': 0.0067000003,\n",
       " 'bidSize': 1200,\n",
       " 'dayHigh': 140.48,\n",
       " 'regularMarketPrice': 137.59,\n",
       " 'preMarketPrice': None,\n",
       " 'logo_url': 'https://logo.clearbit.com/apple.com'}"
      ]
     },
     "execution_count": 4,
     "metadata": {},
     "output_type": "execute_result"
    }
   ],
   "source": [
    "Apple=yf.Ticker('AAPL')\n",
    "Apple_info=Apple.info\n",
    "Apple_info"
   ]
  },
  {
   "cell_type": "code",
   "execution_count": 5,
   "metadata": {},
   "outputs": [
    {
     "name": "stdout",
     "output_type": "stream",
     "text": [
      "the country stakeholder of Apple stock market is: United States\n"
     ]
    }
   ],
   "source": [
    "print('the country stakeholder of Apple stock market is:',Apple_info[\"country\"])"
   ]
  },
  {
   "cell_type": "code",
   "execution_count": 14,
   "metadata": {},
   "outputs": [
    {
     "data": {
      "text/html": [
       "<div>\n",
       "<style scoped>\n",
       "    .dataframe tbody tr th:only-of-type {\n",
       "        vertical-align: middle;\n",
       "    }\n",
       "\n",
       "    .dataframe tbody tr th {\n",
       "        vertical-align: top;\n",
       "    }\n",
       "\n",
       "    .dataframe thead th {\n",
       "        text-align: right;\n",
       "    }\n",
       "</style>\n",
       "<table border=\"1\" class=\"dataframe\">\n",
       "  <thead>\n",
       "    <tr style=\"text-align: right;\">\n",
       "      <th></th>\n",
       "      <th>Open</th>\n",
       "      <th>High</th>\n",
       "      <th>Low</th>\n",
       "      <th>Close</th>\n",
       "      <th>Volume</th>\n",
       "      <th>Dividends</th>\n",
       "      <th>Stock Splits</th>\n",
       "    </tr>\n",
       "    <tr>\n",
       "      <th>Date</th>\n",
       "      <th></th>\n",
       "      <th></th>\n",
       "      <th></th>\n",
       "      <th></th>\n",
       "      <th></th>\n",
       "      <th></th>\n",
       "      <th></th>\n",
       "    </tr>\n",
       "  </thead>\n",
       "  <tbody>\n",
       "    <tr>\n",
       "      <th>1980-12-12</th>\n",
       "      <td>0.100178</td>\n",
       "      <td>0.100614</td>\n",
       "      <td>0.100178</td>\n",
       "      <td>0.100178</td>\n",
       "      <td>469033600</td>\n",
       "      <td>0.0</td>\n",
       "      <td>0.0</td>\n",
       "    </tr>\n",
       "    <tr>\n",
       "      <th>1980-12-15</th>\n",
       "      <td>0.095388</td>\n",
       "      <td>0.095388</td>\n",
       "      <td>0.094952</td>\n",
       "      <td>0.094952</td>\n",
       "      <td>175884800</td>\n",
       "      <td>0.0</td>\n",
       "      <td>0.0</td>\n",
       "    </tr>\n",
       "    <tr>\n",
       "      <th>1980-12-16</th>\n",
       "      <td>0.088418</td>\n",
       "      <td>0.088418</td>\n",
       "      <td>0.087983</td>\n",
       "      <td>0.087983</td>\n",
       "      <td>105728000</td>\n",
       "      <td>0.0</td>\n",
       "      <td>0.0</td>\n",
       "    </tr>\n",
       "    <tr>\n",
       "      <th>1980-12-17</th>\n",
       "      <td>0.090160</td>\n",
       "      <td>0.090596</td>\n",
       "      <td>0.090160</td>\n",
       "      <td>0.090160</td>\n",
       "      <td>86441600</td>\n",
       "      <td>0.0</td>\n",
       "      <td>0.0</td>\n",
       "    </tr>\n",
       "    <tr>\n",
       "      <th>1980-12-18</th>\n",
       "      <td>0.092774</td>\n",
       "      <td>0.093210</td>\n",
       "      <td>0.092774</td>\n",
       "      <td>0.092774</td>\n",
       "      <td>73449600</td>\n",
       "      <td>0.0</td>\n",
       "      <td>0.0</td>\n",
       "    </tr>\n",
       "    <tr>\n",
       "      <th>...</th>\n",
       "      <td>...</td>\n",
       "      <td>...</td>\n",
       "      <td>...</td>\n",
       "      <td>...</td>\n",
       "      <td>...</td>\n",
       "      <td>...</td>\n",
       "      <td>...</td>\n",
       "    </tr>\n",
       "    <tr>\n",
       "      <th>2022-05-16</th>\n",
       "      <td>145.550003</td>\n",
       "      <td>147.520004</td>\n",
       "      <td>144.179993</td>\n",
       "      <td>145.539993</td>\n",
       "      <td>86643800</td>\n",
       "      <td>0.0</td>\n",
       "      <td>0.0</td>\n",
       "    </tr>\n",
       "    <tr>\n",
       "      <th>2022-05-17</th>\n",
       "      <td>148.860001</td>\n",
       "      <td>149.770004</td>\n",
       "      <td>146.679993</td>\n",
       "      <td>149.240005</td>\n",
       "      <td>78336300</td>\n",
       "      <td>0.0</td>\n",
       "      <td>0.0</td>\n",
       "    </tr>\n",
       "    <tr>\n",
       "      <th>2022-05-18</th>\n",
       "      <td>146.850006</td>\n",
       "      <td>147.360001</td>\n",
       "      <td>139.899994</td>\n",
       "      <td>140.820007</td>\n",
       "      <td>109742900</td>\n",
       "      <td>0.0</td>\n",
       "      <td>0.0</td>\n",
       "    </tr>\n",
       "    <tr>\n",
       "      <th>2022-05-19</th>\n",
       "      <td>139.880005</td>\n",
       "      <td>141.660004</td>\n",
       "      <td>136.600006</td>\n",
       "      <td>137.350006</td>\n",
       "      <td>136095600</td>\n",
       "      <td>0.0</td>\n",
       "      <td>0.0</td>\n",
       "    </tr>\n",
       "    <tr>\n",
       "      <th>2022-05-20</th>\n",
       "      <td>139.089996</td>\n",
       "      <td>140.699997</td>\n",
       "      <td>132.610001</td>\n",
       "      <td>137.589996</td>\n",
       "      <td>137194600</td>\n",
       "      <td>0.0</td>\n",
       "      <td>0.0</td>\n",
       "    </tr>\n",
       "  </tbody>\n",
       "</table>\n",
       "<p>10449 rows × 7 columns</p>\n",
       "</div>"
      ],
      "text/plain": [
       "                  Open        High         Low       Close     Volume  \\\n",
       "Date                                                                    \n",
       "1980-12-12    0.100178    0.100614    0.100178    0.100178  469033600   \n",
       "1980-12-15    0.095388    0.095388    0.094952    0.094952  175884800   \n",
       "1980-12-16    0.088418    0.088418    0.087983    0.087983  105728000   \n",
       "1980-12-17    0.090160    0.090596    0.090160    0.090160   86441600   \n",
       "1980-12-18    0.092774    0.093210    0.092774    0.092774   73449600   \n",
       "...                ...         ...         ...         ...        ...   \n",
       "2022-05-16  145.550003  147.520004  144.179993  145.539993   86643800   \n",
       "2022-05-17  148.860001  149.770004  146.679993  149.240005   78336300   \n",
       "2022-05-18  146.850006  147.360001  139.899994  140.820007  109742900   \n",
       "2022-05-19  139.880005  141.660004  136.600006  137.350006  136095600   \n",
       "2022-05-20  139.089996  140.699997  132.610001  137.589996  137194600   \n",
       "\n",
       "            Dividends  Stock Splits  \n",
       "Date                                 \n",
       "1980-12-12        0.0           0.0  \n",
       "1980-12-15        0.0           0.0  \n",
       "1980-12-16        0.0           0.0  \n",
       "1980-12-17        0.0           0.0  \n",
       "1980-12-18        0.0           0.0  \n",
       "...               ...           ...  \n",
       "2022-05-16        0.0           0.0  \n",
       "2022-05-17        0.0           0.0  \n",
       "2022-05-18        0.0           0.0  \n",
       "2022-05-19        0.0           0.0  \n",
       "2022-05-20        0.0           0.0  \n",
       "\n",
       "[10449 rows x 7 columns]"
      ]
     },
     "execution_count": 14,
     "metadata": {},
     "output_type": "execute_result"
    }
   ],
   "source": [
    "Apple_Share_data=Apple.history(period=\"max\")\n",
    "Apple_Share_data"
   ]
  },
  {
   "cell_type": "code",
   "execution_count": 17,
   "metadata": {},
   "outputs": [
    {
     "data": {
      "text/plain": [
       "<AxesSubplot:xlabel='Date'>"
      ]
     },
     "execution_count": 17,
     "metadata": {},
     "output_type": "execute_result"
    },
    {
     "data": {
      "image/png": "[encoded data removed]",
      "text/plain": [
       "<Figure size 432x288 with 1 Axes>"
      ]
     },
     "metadata": {
      "needs_background": "light"
     },
     "output_type": "display_data"
    }
   ],
   "source": [
    "Apple_Share_data.reset_index(inplace=True)\n",
    "Apple_Share_data.plot(x=\"Date\", y=\"Open\")"
   ]
  },
  {
   "cell_type": "code",
   "execution_count": 18,
   "metadata": {},
   "outputs": [
    {
     "data": {
      "text/plain": [
       "Date\n",
       "1987-05-11    0.000536\n",
       "1987-08-10    0.000536\n",
       "1987-11-17    0.000714\n",
       "1988-02-12    0.000714\n",
       "1988-05-16    0.000714\n",
       "                ...   \n",
       "2021-05-07    0.220000\n",
       "2021-08-06    0.220000\n",
       "2021-11-05    0.220000\n",
       "2022-02-04    0.220000\n",
       "2022-05-06    0.230000\n",
       "Name: Dividends, Length: 75, dtype: float64"
      ]
     },
     "execution_count": 18,
     "metadata": {},
     "output_type": "execute_result"
    }
   ],
   "source": [
    "Apple.dividends"
   ]
  },
  {
   "cell_type": "code",
   "execution_count": 23,
   "metadata": {},
   "outputs": [
    {
     "data": {
      "text/plain": [
       "<AxesSubplot:xlabel='Date'>"
      ]
     },
     "execution_count": 23,
     "metadata": {},
     "output_type": "execute_result"
    },
    {
     "data": {
      "image/png": "[encoded data removed]",
      "text/plain": [
       "<Figure size 432x288 with 1 Axes>"
      ]
     },
     "metadata": {
      "needs_background": "light"
     },
     "output_type": "display_data"
    }
   ],
   "source": [
    "Apple.dividends.plot()"
   ]
  }
 ],
 "metadata": {
  "interpreter": {
   "hash": "cd0075b04277ec9f5b3c71576ac3659585d43319feff062267810bae9d57edb7"
  },
  "kernelspec": {
   "display_name": "Python 3.7.9 64-bit",
   "language": "python",
   "name": "python3"
  },
  "language_info": {
   "codemirror_mode": {
    "name": "ipython",
    "version": 3
   },
   "file_extension": ".py",
   "mimetype": "text/x-python",
   "name": "python",
   "nbconvert_exporter": "python",
   "pygments_lexer": "ipython3",
   "version": "3.7.9"
  },
  "orig_nbformat": 4
 },
 "nbformat": 4,
 "nbformat_minor": 2
}
